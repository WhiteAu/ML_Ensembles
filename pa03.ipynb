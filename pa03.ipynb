{
 "metadata": {
  "name": "pa03"
 }, 
 "nbformat": 2, 
 "worksheets": [
  {
   "cells": [
    {
     "cell_type": "markdown", 
     "source": [
      "#PA03: Ensemble Learning (Due Nov 16)", 
      "", 
      "In this programming assignment you will implement and experiment with learning ensembles in recommender systems. "
     ]
    }, 
    {
     "cell_type": "code", 
     "collapsed": true, 
     "input": [], 
     "language": "python", 
     "outputs": [], 
     "prompt_number": 1
    }, 
    {
     "cell_type": "markdown", 
     "source": [
      "##The MovieLens Dataset", 
      "", 
      "We are using the movielens dataset obtained here http://www.grouplens.org/node/73. The dataset consists", 
      "of 100k ratings by ~900 users on ~1500 items. The idea is to predict user ratings on a given item, ", 
      "so each (user,item) pair is an example, features include user and item features. ", 
      "", 
      "We provide a training dataset of ~90,000 movie recommendations for your use in this assignment. You can look at file", 
      "`pa03/util/prep_data.py` to see the code that was used to create the dataset. The datatable is a pickled pandas", 
      "`DataFrame` located at `movie_data/ratings_train.pda`. We also provide a test dataset of ~9500 ratings in file", 
      "`movie_data/ratings_test.pda`."
     ]
    }, 
    {
     "cell_type": "code", 
     "collapsed": true, 
     "input": [
      "# this is useful when updating code outside the notebook", 
      "%load_ext autoreload", 
      "%autoreload 2"
     ], 
     "language": "python", 
     "outputs": [], 
     "prompt_number": 2
    }, 
    {
     "cell_type": "code", 
     "collapsed": true, 
     "input": [
      "# This was run to prepare the data, don't run unless you have downloaded the data", 
      "# from url above", 
      "", 
      "#from pa03.util.prep_data import prep_data", 
      "#ratings = prep_data('../devel/ml-100k', 'ua.base', None)", 
      "#ratings.pop('videodate')", 
      "#ratings.pop('unknown')", 
      "#print ratings.shape", 
      "#ratings.save('movie_data/ratings_train.pda')"
     ], 
     "language": "python", 
     "outputs": [], 
     "prompt_number": 3
    }, 
    {
     "cell_type": "code", 
     "collapsed": true, 
     "input": [
      "#ratings = prep_data('../devel/ml-100k', 'ua.test', None)", 
      "#ratings.pop('videodate')", 
      "#ratings.pop('unknown')", 
      "#print ratings.shape", 
      "#ratings.save('movie_data/ratings_test.pda')"
     ], 
     "language": "python", 
     "outputs": [], 
     "prompt_number": 4
    }, 
    {
     "cell_type": "markdown", 
     "source": [
      "Let's load the data and get do some exploration"
     ]
    }, 
    {
     "cell_type": "code", 
     "collapsed": false, 
     "input": [
      "import pandas as pd", 
      "ratings=pd.load('movie_data/ratings_train.pda')", 
      "", 
      "nratings = ratings.shape[0]", 
      "print 'there are %d ratings' % nratings", 
      "", 
      "# the variables", 
      "print ratings.columns"
     ], 
     "language": "python", 
     "outputs": [
      {
       "output_type": "stream", 
       "stream": "stdout", 
       "text": [
        "there are 90570 ratings", 
        "array([userid, itemid, rating, age, gender, occupation, Action, Adventure,", 
        "       Animation, Children's, Comedy, Crime, Documentary, Drama, Fantasy,", 
        "       Film-Noir, Horror, Musical, Mystery, Romance, Sci-Fi, Thriller, War,", 
        "       Western, decade, isgood], dtype=object)"
       ]
      }, 
      {
       "output_type": "stream", 
       "stream": "stdout", 
       "text": [
        ""
       ]
      }
     ], 
     "prompt_number": 5
    }, 
    {
     "cell_type": "code", 
     "collapsed": true, 
     "input": [
      "# you can get more info from prep_data itself", 
      "from pa03.util.prep_data import prep_data", 
      "#?prep_data", 
      "#?pd.DataFrame.apply"
     ], 
     "language": "python", 
     "outputs": [], 
     "prompt_number": 6
    }, 
    {
     "cell_type": "markdown", 
     "source": [
      "", 
      "The columns are fairly self-explanatory:", 
      "", 
      "* rating: a rating from 1-5  ", 
      "* age: user's age (numeric)  ", 
      "* gender: user's gender (string, \"M\" or \"F\")  ", 
      "* occupation: user's occupation (string)  ", 
      "* Action,...,Western: binary (0,1) variables indicating movie genre  ", 
      "* decade: decade in which movies were released (numeric e.g., 90)  ", 
      "* isgood: binary (+1,-1) variable indicating if rating > 3"
     ]
    }, 
    {
     "cell_type": "markdown", 
     "source": [
      "Question 1: Fill in the code below to get some information about the dataset"
     ]
    }, 
    {
     "cell_type": "code", 
     "collapsed": false, 
     "input": [
      "# example: get a histogram of the number of ratings per age group in the dataset", 
      "figure()", 
      "ratings.groupby('age').size().plot(kind='bar')", 
      "title('age')", 
      "show()", 
      "", 
      "# example: how many ratings are there per gender?", 
      "figure()", 
      "ratings.groupby('gender').size().plot(kind='bar')", 
      "title('gender')", 
      "show()", 
      "", 
      "# COMPLETE: how many ratings are there per occupation?", 
      "figure()", 
      "ratings.groupby('occupation').size().plot(kind='bar')", 
      "title('occupation')", 
      "show()", 
      "", 
      "# COMPLETE: how many ratings are there per decade?", 
      "figure()", 
      "ratings.groupby('decade').size().plot(kind='bar')", 
      "title('decade')", 
      "show()", 
      "", 
      "# COMPLETE: what is the number of good movies and bad movies (isgood==+1, isgood==-1)?", 
      "figure()", 
      "ratings.groupby('isgood').size().plot(kind='bar')", 
      "title('isgood')", 
      "show()", 
      "print ratings.groupby('isgood').size()", 
      "", 
      "# COMPLETE: how many examples per rating value (1-5) are there?", 
      "figure()", 
      "ratings.groupby('rating').size().plot(kind='bar')", 
      "title('rating')", 
      "show()", 
      "print ratings.groupby('rating').size()", 
      "", 
      "# COMPLETE: how many ratings per genre are there? (hint look at the pandas.DataFrame.apply function)", 
      "genre = ratings.ix[:,'Action':'Western']", 
      "genre.apply(np.sum, axis=0)"
     ], 
     "language": "python", 
     "outputs": [
      {
       "output_type": "display_data", 
       "png": "[encoded data removed]"
      }, 
      {
       "output_type": "display_data", 
       "png": "[encoded data removed]"
      }, 
      {
       "output_type": "display_data", 
       "png": "[encoded data removed]"
      }, 
      {
       "output_type": "display_data", 
       "png": "[encoded data removed]"
      }, 
      {
       "output_type": "display_data", 
       "png": "[encoded data removed]"
      }, 
      {
       "output_type": "stream", 
       "stream": "stdout", 
       "text": [
        "isgood", 
        "-1        40664", 
        " 1        49906"
       ]
      }, 
      {
       "output_type": "display_data", 
       "png": "[encoded data removed]"
      }, 
      {
       "output_type": "stream", 
       "stream": "stdout", 
       "text": [
        "rating", 
        "1          5568", 
        "2         10375", 
        "3         24721", 
        "4         30858", 
        "5         19048"
       ]
      }, 
      {
       "output_type": "pyout", 
       "prompt_number": 7, 
       "text": [
        "Action         23124", 
        "Adventure      12508", 
        "Animation       3328", 
        "Children's      6568", 
        "Comedy         27177", 
        "Crime           7259", 
        "Documentary      686", 
        "Drama          36011", 
        "Fantasy         1244", 
        "Film-Noir       1578", 
        "Horror          4841", 
        "Musical         4560", 
        "Mystery         4636", 
        "Romance        17513", 
        "Sci-Fi         11487", 
        "Thriller       19568", 
        "War             8469", 
        "Western         1728"
       ]
      }
     ], 
     "prompt_number": 7
    }, 
    {
     "cell_type": "code", 
     "collapsed": false, 
     "input": [
      "# COMPLETE: how many ratings are there for dramas from the 90's from 25-30 year old male students?", 
      "decDram = ratings.groupby(['decade', 'Drama', 'age']).size()", 
      "#print decDram", 
      "print decDram[90] [1]", 
      "print 'The number of dramas from the 90\\'s from 25 - 30 year-olds was: %d'%decDram[90] [1][3]", 
      "", 
      "", 
      "# COMPLETE: what is the proportion of good movies (isgood == +1) for these ratings", 
      "decDramGud = ratings.groupby(['decade', 'Drama', 'age', 'isgood']).size()", 
      "print decDramGud[90] [1]", 
      "print 'The ratio of good to bad was %d:%d = %f'%(decDramGud[90] [1][5],decDramGud[90] [1][4], float(decDramGud[90] [1][5]/(decDramGud[90] [1][4]+0.0)))"
     ], 
     "language": "python", 
     "outputs": [
      {
       "output_type": "stream", 
       "stream": "stdout", 
       "text": [
        "age", 
        "(10, 15]     314", 
        "(15, 20]    2852", 
        "(20, 25]    4717", 
        "(25, 30]    5551", 
        "(30, 35]    3520", 
        "(35, 40]    2410", 
        "(40, 45]    1785", 
        "(45, 50]    2353", 
        "(5, 10]        8", 
        "(50, 55]    1315", 
        "(55, 60]    1011", 
        "(60, 65]     215", 
        "(65, 70]     145", 
        "(70, 75]      10", 
        "The number of dramas from the 90's from 25 - 30 year-olds was: 5551"
       ]
      }, 
      {
       "output_type": "stream", 
       "stream": "stdout", 
       "text": [
        "", 
        "age       isgood", 
        "(10, 15]  -1         161", 
        "           1         153", 
        "(15, 20]  -1        1098", 
        "           1        1754", 
        "(20, 25]  -1        2099", 
        "           1        2618", 
        "(25, 30]  -1        2430", 
        "           1        3121", 
        "(30, 35]  -1        1443", 
        "           1        2077", 
        "(35, 40]  -1        1035", 
        "           1        1375", 
        "(40, 45]  -1         755", 
        "           1        1030", 
        "(45, 50]  -1        1026", 
        "           1        1327", 
        "(5, 10]   -1           1", 
        "           1           7", 
        "(50, 55]  -1         456", 
        "           1         859", 
        "(55, 60]  -1         416", 
        "           1         595", 
        "(60, 65]  -1          65", 
        "           1         150", 
        "(65, 70]  -1          60", 
        "           1          85", 
        "(70, 75]  -1           4", 
        "           1           6"
       ]
      }, 
      {
       "output_type": "stream", 
       "stream": "stdout", 
       "text": [
        "", 
        "The ratio of good to bad was 2618:2099 = 1.247261"
       ]
      }, 
      {
       "output_type": "stream", 
       "stream": "stdout", 
       "text": [
        ""
       ]
      }
     ], 
     "prompt_number": 8
    }, 
    {
     "cell_type": "markdown", 
     "source": [
      "##Collaborative Filtering", 
      "", 
      "Modern recommender systems use both information about user's and items (content-based system) along", 
      "with previous ratings. The challenge is how to incorporate previous ratings into the recommender system.", 
      "As an example, suppose you want to predict if user `Joe` will rate movie `Weekend at Bernie's` as a good", 
      "movie. One way is to see how all other users have rated `Weekend at Bernie's` and use those rankings in your ", 
      "classifier (for example, by using the movie's mean rating). ", 
      "", 
      "A slightly more sophisticated way of doing it is to weight each user's rating by how similarly they rate movies ", 
      "to `Joe`. To implement this we need to define user similarities. One way of doing this is to represent each", 
      "user by the vector of ratings they have made on movies and use the cosine between these vectors as the similarity.", 
      "For instance, if the ratings for user `Joe` is denoted as $x$ and the ratings for user `Sandy` is denoted as ", 
      "$y$, then the similarity between `Joe` and `Sandy` is", 
      "", 
      "$$", 
      "w_{x,y}=\\frac{x \\cdot y}{\\|x\\|_2 \\|y\\|_2}", 
      "$$", 
      "", 
      "To determine `Joe's` rating for the movie, we find the most similar users to `Joe`, say 20 of them,", 
      "and calculate the average rating for `Weekend at Bernies` for these users, weighted by each user's similarity", 
      "to `Joe`. ", 
      "", 
      "We have provided code to calculate user similarities and provide similarity weighted ratings."
     ]
    }, 
    {
     "cell_type": "code", 
     "collapsed": true, 
     "input": [
      "from pa03.util.cfiltering import CFilter", 
      "", 
      "# get info about CFilter", 
      "#?CFilter", 
      "", 
      "# and the rating function", 
      "#?CFilter.get_cf_rating"
     ], 
     "language": "python", 
     "outputs": [], 
     "prompt_number": 9
    }, 
    {
     "cell_type": "code", 
     "collapsed": true, 
     "input": [
      "# create object on the first 10,000 ratings (you may want to build this on the complete training set", 
      "# of ratings to answer the question below)", 
      "#cf=CFilter(ratings.ix[:10000,:])", 
      "#ratings.xs(0)", 
      "ratings=pd.load('movie_data/ratings_train.pda')", 
      "ratings=ratings.dropna()", 
      "ratings.index = range(0,ratings.index.size)", 
      "#print ratings"
     ], 
     "language": "python", 
     "outputs": [], 
     "prompt_number": 10
    }, 
    {
     "cell_type": "code", 
     "collapsed": false, 
     "input": [
      "#The complete training set", 
      "#cf=CFilter(ratings.ix[:,:])", 
      "cf=CFilter(ratings.ix[:,:])"
     ], 
     "language": "python", 
     "outputs": [
      {
       "output_type": "stream", 
       "stream": "stdout", 
       "text": [
        "Done making item ratings", 
        "Done making items norms hash"
       ]
      }, 
      {
       "output_type": "stream", 
       "stream": "stdout", 
       "text": [
        "", 
        "Done making regular neighborhood hash"
       ]
      }, 
      {
       "output_type": "stream", 
       "stream": "stdout", 
       "text": [
        "", 
        "Done making item neighborhoods"
       ]
      }, 
      {
       "output_type": "stream", 
       "stream": "stdout", 
       "text": [
        "", 
        "Done making items hash"
       ]
      }
     ], 
     "prompt_number": 11
    }, 
    {
     "cell_type": "code", 
     "collapsed": false, 
     "input": [
      "# get predicted ratings", 
      "cf_ratings=cf.get_cf_rating(ratings)", 
      "#import pandas as pd", 
      "#cf_ratings=pd.cut(cf.get_cf_rating(ratings), np.arrange(-1,6,.25))", 
      "", 
      "# print the first 10", 
      "print cf_ratings[:10]"
     ], 
     "language": "python", 
     "outputs": [
      {
       "output_type": "stream", 
       "stream": "stdout", 
       "text": [
        "[ 4.0533856   3.18100619  4.05971381  3.69861693  3.54344568  3.45688678", 
        "  3.82953391  3.61991085  4.41010584  3.77156297]"
       ]
      }
     ], 
     "prompt_number": 12
    }, 
    {
     "cell_type": "markdown", 
     "source": [
      "Question 2: How good are these predicted ratings? How well can you predict if you get a good rating using this? (I am asking about training set ", 
      "accuracy here, you'll answer questions about generalization error later)."
     ]
    }, 
    {
     "cell_type": "code", 
     "collapsed": false, 
     "input": [
      "avg_rating = cf_ratings - ratings.rating", 
      "#print avg_rating[:10]", 
      "avg = sum(avg_rating)/len(avg_rating)", 
      "print 'average signed error was %f' %avg", 
      "sqr_avg = sum(sqrt(square(avg_rating)))/len(avg_rating)", 
      "print 'average unsigned error was %f' %sqr_avg", 
      "isgd_rating = [1 if cf_ratings[i] > 3 else 0 for i in xrange(len(cf_ratings))]", 
      "isgd_avg = sum([i == j for i,j in zip(isgd_rating, ratings.isgood)])/float(len(ratings))", 
      "print 'is_good error avg was %f'%isgd_avg"
     ], 
     "language": "python", 
     "outputs": [
      {
       "output_type": "stream", 
       "stream": "stdout", 
       "text": [
        "average signed error was -0.030210", 
        "average unsigned error was 0.861131"
       ]
      }, 
      {
       "output_type": "stream", 
       "stream": "stdout", 
       "text": [
        "", 
        "is_good error avg was 0.496047"
       ]
      }, 
      {
       "output_type": "stream", 
       "stream": "stdout", 
       "text": [
        ""
       ]
      }
     ], 
     "prompt_number": 13
    }, 
    {
     "cell_type": "markdown", 
     "source": [
      "Just using cf_ratings appears to produce a a rating that on average slightly underrates all movies.  ", 
      "When using a slightly less forgiving analysis (absolute error) we see that the system on average is roughly .8 points off from the true rating-- not as good!"
     ]
    }, 
    {
     "cell_type": "markdown", 
     "source": [
      "Question 3: Extend the code for collaborative filtering in file `pa03.util.cfiltering.py` to implement item-item similarity (e.g., compute", 
      "`Joe's` rating for `Weekend at Bernie's` from `Joe's` ratings for similar movies, again using cosine similarity). "
     ]
    }, 
    {
     "cell_type": "code", 
     "collapsed": false, 
     "input": [
      "it_ratings = cf.get_item_rating(ratings)", 
      "print it_ratings[:10]"
     ], 
     "language": "python", 
     "outputs": [
      {
       "output_type": "stream", 
       "stream": "stdout", 
       "text": [
        "[ 4.1777127   4.3377351   2.70848445  4.36018086  4.07554713  3.21159597", 
        "  5.          3.76208878  3.33401773  3.29391235]"
       ]
      }
     ], 
     "prompt_number": 14
    }, 
    {
     "cell_type": "code", 
     "collapsed": false, 
     "input": [
      "item_ratings = cf.get_item_rating(ratings)", 
      "item_avg_rating = item_ratings - ratings.rating", 
      "#print avg_rating[:10]", 
      "iavg = sum(item_avg_rating)/len(item_avg_rating)", 
      "print 'average signed error was %f' %iavg", 
      "sqr_iavg = sum(sqrt(square(item_avg_rating)))/len(item_avg_rating)", 
      "print 'average unsigned error was %f' %sqr_iavg", 
      "isgd_rating = [1 if item_ratings[i] > 3 else 0 for i in xrange(len(item_ratings))]", 
      "isgd_avg = sum([i == j for i,j in zip(isgd_rating, ratings.isgood)])/float(len(ratings))", 
      "print 'is_good error avg was %f'%isgd_avg"
     ], 
     "language": "python", 
     "outputs": [
      {
       "output_type": "stream", 
       "stream": "stdout", 
       "text": [
        "average signed error was 0.176363", 
        "average unsigned error was 0.771243"
       ]
      }, 
      {
       "output_type": "stream", 
       "stream": "stdout", 
       "text": [
        "", 
        "is_good error avg was 0.528423"
       ]
      }, 
      {
       "output_type": "stream", 
       "stream": "stdout", 
       "text": [
        ""
       ]
      }
     ], 
     "prompt_number": 15
    }, 
    {
     "cell_type": "markdown", 
     "source": [
      "Question 4: Are predicted ratings from item-item similarity better?"
     ]
    }, 
    {
     "cell_type": "markdown", 
     "source": [
      "They are better! In fact, they are better past the critical threshold of 0.5", 
      "This means that item-to-item actually makes sense for bagging!"
     ]
    }, 
    {
     "cell_type": "code", 
     "collapsed": false, 
     "input": [
      "import sys", 
      "print sys.version"
     ], 
     "language": "python", 
     "outputs": [
      {
       "output_type": "stream", 
       "stream": "stdout", 
       "text": [
        "2.7.3 |EPD 7.3-2 (64-bit)| (default, Apr 12 2012, 15:20:16) [MSC v.1500 64 bit (AMD64)]"
       ]
      }
     ], 
     "prompt_number": 16
    }, 
    {
     "cell_type": "markdown", 
     "source": [
      "##Hybrid recommender systems", 
      "", 
      "We can combine predicted ratings from either (or both) user-user and item-item similarities with user and item features and construct", 
      "rating predictors. Using the code provided we would prepare a dataset for this prediction task as follows:"
     ]
    }, 
    {
     "cell_type": "code", 
     "collapsed": false, 
     "input": [
      "# remove the userid, itemid and rating column from the training set", 
      "rat_cop = ratings", 
      "_dont_print = ratings.pop('rating')", 
      "ratings.pop('userid')", 
      "ratings.pop('itemid')"
     ], 
     "language": "python", 
     "outputs": [
      {
       "ename": "KeyError", 
       "evalue": "u'no item named userid'", 
       "output_type": "pyerr", 
       "traceback": [
        "\u001b[1;31m---------------------------------------------------------------------------\u001b[0m\n\u001b[1;31mKeyError\u001b[0m                                  Traceback (most recent call last)", 
        "\u001b[1;32mC:\\Users\\Scott\\Documents\\GitHub\\ML_Ensembles\\<ipython-input-27-73ecf214abcd>\u001b[0m in \u001b[0;36m<module>\u001b[1;34m()\u001b[0m\n\u001b[0;32m      2\u001b[0m \u001b[0mrat_cop\u001b[0m \u001b[1;33m=\u001b[0m \u001b[0mratings\u001b[0m\u001b[1;33m\u001b[0m\u001b[0m\n\u001b[0;32m      3\u001b[0m \u001b[0m_dont_print\u001b[0m \u001b[1;33m=\u001b[0m \u001b[0mratings\u001b[0m\u001b[1;33m.\u001b[0m\u001b[0mpop\u001b[0m\u001b[1;33m(\u001b[0m\u001b[1;34m'rating'\u001b[0m\u001b[1;33m)\u001b[0m\u001b[1;33m\u001b[0m\u001b[0m\n\u001b[1;32m----> 4\u001b[1;33m \u001b[0mratings\u001b[0m\u001b[1;33m.\u001b[0m\u001b[0mpop\u001b[0m\u001b[1;33m(\u001b[0m\u001b[1;34m'userid'\u001b[0m\u001b[1;33m)\u001b[0m\u001b[1;33m\u001b[0m\u001b[0m\n\u001b[0m\u001b[0;32m      5\u001b[0m \u001b[0mratings\u001b[0m\u001b[1;33m.\u001b[0m\u001b[0mpop\u001b[0m\u001b[1;33m(\u001b[0m\u001b[1;34m'itemid'\u001b[0m\u001b[1;33m)\u001b[0m\u001b[1;33m\u001b[0m\u001b[0m\n", 
        "\u001b[1;32mC:\\Python27\\lib\\site-packages\\pandas\\core\\frame.pyc\u001b[0m in \u001b[0;36mpop\u001b[1;34m(self, item)\u001b[0m\n\u001b[0;32m   1995\u001b[0m         \u001b[0mcolumn\u001b[0m \u001b[1;33m:\u001b[0m \u001b[0mSeries\u001b[0m\u001b[1;33m\u001b[0m\u001b[0m\n\u001b[0;32m   1996\u001b[0m         \"\"\"\n\u001b[1;32m-> 1997\u001b[1;33m         \u001b[1;32mreturn\u001b[0m \u001b[0mNDFrame\u001b[0m\u001b[1;33m.\u001b[0m\u001b[0mpop\u001b[0m\u001b[1;33m(\u001b[0m\u001b[0mself\u001b[0m\u001b[1;33m,\u001b[0m \u001b[0mitem\u001b[0m\u001b[1;33m)\u001b[0m\u001b[1;33m\u001b[0m\u001b[0m\n\u001b[0m\u001b[0;32m   1998\u001b[0m \u001b[1;33m\u001b[0m\u001b[0m\n\u001b[0;32m   1999\u001b[0m     \u001b[1;31m# to support old APIs\u001b[0m\r\n\u001b[1;33m\u001b[0m\u001b[0m\n", 
        "\u001b[1;32mC:\\Python27\\lib\\site-packages\\pandas\\core\\generic.pyc\u001b[0m in \u001b[0;36mpop\u001b[1;34m(self, item)\u001b[0m\n\u001b[0;32m    592\u001b[0m         \u001b[0mReturn\u001b[0m \u001b[0mitem\u001b[0m \u001b[1;32mand\u001b[0m \u001b[0mdrop\u001b[0m \u001b[1;32mfrom\u001b[0m \u001b[0mframe\u001b[0m\u001b[1;33m.\u001b[0m \u001b[0mRaise\u001b[0m \u001b[0mKeyError\u001b[0m \u001b[1;32mif\u001b[0m \u001b[1;32mnot\u001b[0m \u001b[0mfound\u001b[0m\u001b[1;33m.\u001b[0m\u001b[1;33m\u001b[0m\u001b[0m\n\u001b[0;32m    593\u001b[0m         \"\"\"\n\u001b[1;32m--> 594\u001b[1;33m         \u001b[0mresult\u001b[0m \u001b[1;33m=\u001b[0m \u001b[0mself\u001b[0m\u001b[1;33m[\u001b[0m\u001b[0mitem\u001b[0m\u001b[1;33m]\u001b[0m\u001b[1;33m\u001b[0m\u001b[0m\n\u001b[0m\u001b[0;32m    595\u001b[0m         \u001b[1;32mdel\u001b[0m \u001b[0mself\u001b[0m\u001b[1;33m[\u001b[0m\u001b[0mitem\u001b[0m\u001b[1;33m]\u001b[0m\u001b[1;33m\u001b[0m\u001b[0m\n\u001b[0;32m    596\u001b[0m         \u001b[1;32mreturn\u001b[0m \u001b[0mresult\u001b[0m\u001b[1;33m\u001b[0m\u001b[0m\n", 
        "\u001b[1;32mC:\\Python27\\lib\\site-packages\\pandas\\core\\frame.pyc\u001b[0m in \u001b[0;36m__getitem__\u001b[1;34m(self, key)\u001b[0m\n\u001b[0;32m   1805\u001b[0m                 \u001b[1;32mraise\u001b[0m \u001b[0mValueError\u001b[0m\u001b[1;33m(\u001b[0m\u001b[1;34m'Cannot index using non-boolean DataFrame'\u001b[0m\u001b[1;33m)\u001b[0m\u001b[1;33m\u001b[0m\u001b[0m\n\u001b[0;32m   1806\u001b[0m         \u001b[1;32melse\u001b[0m\u001b[1;33m:\u001b[0m\u001b[1;33m\u001b[0m\u001b[0m\n\u001b[1;32m-> 1807\u001b[1;33m             \u001b[1;32mreturn\u001b[0m \u001b[0mself\u001b[0m\u001b[1;33m.\u001b[0m\u001b[0m_get_item_cache\u001b[0m\u001b[1;33m(\u001b[0m\u001b[0mkey\u001b[0m\u001b[1;33m)\u001b[0m\u001b[1;33m\u001b[0m\u001b[0m\n\u001b[0m\u001b[0;32m   1808\u001b[0m \u001b[1;33m\u001b[0m\u001b[0m\n\u001b[0;32m   1809\u001b[0m     \u001b[1;32mdef\u001b[0m \u001b[0m_getitem_array\u001b[0m\u001b[1;33m(\u001b[0m\u001b[0mself\u001b[0m\u001b[1;33m,\u001b[0m \u001b[0mkey\u001b[0m\u001b[1;33m)\u001b[0m\u001b[1;33m:\u001b[0m\u001b[1;33m\u001b[0m\u001b[0m\n", 
        "\u001b[1;32mC:\\Python27\\lib\\site-packages\\pandas\\core\\generic.pyc\u001b[0m in \u001b[0;36m_get_item_cache\u001b[1;34m(self, item)\u001b[0m\n\u001b[0;32m    529\u001b[0m             \u001b[1;32mreturn\u001b[0m \u001b[0mcache\u001b[0m\u001b[1;33m[\u001b[0m\u001b[0mitem\u001b[0m\u001b[1;33m]\u001b[0m\u001b[1;33m\u001b[0m\u001b[0m\n\u001b[0;32m    530\u001b[0m         \u001b[1;32mexcept\u001b[0m \u001b[0mException\u001b[0m\u001b[1;33m:\u001b[0m\u001b[1;33m\u001b[0m\u001b[0m\n\u001b[1;32m--> 531\u001b[1;33m             \u001b[0mvalues\u001b[0m \u001b[1;33m=\u001b[0m \u001b[0mself\u001b[0m\u001b[1;33m.\u001b[0m\u001b[0m_data\u001b[0m\u001b[1;33m.\u001b[0m\u001b[0mget\u001b[0m\u001b[1;33m(\u001b[0m\u001b[0mitem\u001b[0m\u001b[1;33m)\u001b[0m\u001b[1;33m\u001b[0m\u001b[0m\n\u001b[0m\u001b[0;32m    532\u001b[0m             \u001b[0mres\u001b[0m \u001b[1;33m=\u001b[0m \u001b[0mself\u001b[0m\u001b[1;33m.\u001b[0m\u001b[0m_box_item_values\u001b[0m\u001b[1;33m(\u001b[0m\u001b[0mitem\u001b[0m\u001b[1;33m,\u001b[0m \u001b[0mvalues\u001b[0m\u001b[1;33m)\u001b[0m\u001b[1;33m\u001b[0m\u001b[0m\n\u001b[0;32m    533\u001b[0m             \u001b[0mcache\u001b[0m\u001b[1;33m[\u001b[0m\u001b[0mitem\u001b[0m\u001b[1;33m]\u001b[0m \u001b[1;33m=\u001b[0m \u001b[0mres\u001b[0m\u001b[1;33m\u001b[0m\u001b[0m\n", 
        "\u001b[1;32mC:\\Python27\\lib\\site-packages\\pandas\\core\\internals.pyc\u001b[0m in \u001b[0;36mget\u001b[1;34m(self, item)\u001b[0m\n\u001b[0;32m    828\u001b[0m \u001b[1;33m\u001b[0m\u001b[0m\n\u001b[0;32m    829\u001b[0m     \u001b[1;32mdef\u001b[0m \u001b[0mget\u001b[0m\u001b[1;33m(\u001b[0m\u001b[0mself\u001b[0m\u001b[1;33m,\u001b[0m \u001b[0mitem\u001b[0m\u001b[1;33m)\u001b[0m\u001b[1;33m:\u001b[0m\u001b[1;33m\u001b[0m\u001b[0m\n\u001b[1;32m--> 830\u001b[1;33m         \u001b[0m_\u001b[0m\u001b[1;33m,\u001b[0m \u001b[0mblock\u001b[0m \u001b[1;33m=\u001b[0m \u001b[0mself\u001b[0m\u001b[1;33m.\u001b[0m\u001b[0m_find_block\u001b[0m\u001b[1;33m(\u001b[0m\u001b[0mitem\u001b[0m\u001b[1;33m)\u001b[0m\u001b[1;33m\u001b[0m\u001b[0m\n\u001b[0m\u001b[0;32m    831\u001b[0m         \u001b[1;32mreturn\u001b[0m \u001b[0mblock\u001b[0m\u001b[1;33m.\u001b[0m\u001b[0mget\u001b[0m\u001b[1;33m(\u001b[0m\u001b[0mitem\u001b[0m\u001b[1;33m)\u001b[0m\u001b[1;33m\u001b[0m\u001b[0m\n\u001b[0;32m    832\u001b[0m \u001b[1;33m\u001b[0m\u001b[0m\n", 
        "\u001b[1;32mC:\\Python27\\lib\\site-packages\\pandas\\core\\internals.pyc\u001b[0m in \u001b[0;36m_find_block\u001b[1;34m(self, item)\u001b[0m\n\u001b[0;32m    942\u001b[0m \u001b[1;33m\u001b[0m\u001b[0m\n\u001b[0;32m    943\u001b[0m     \u001b[1;32mdef\u001b[0m \u001b[0m_find_block\u001b[0m\u001b[1;33m(\u001b[0m\u001b[0mself\u001b[0m\u001b[1;33m,\u001b[0m \u001b[0mitem\u001b[0m\u001b[1;33m)\u001b[0m\u001b[1;33m:\u001b[0m\u001b[1;33m\u001b[0m\u001b[0m\n\u001b[1;32m--> 944\u001b[1;33m         \u001b[0mself\u001b[0m\u001b[1;33m.\u001b[0m\u001b[0m_check_have\u001b[0m\u001b[1;33m(\u001b[0m\u001b[0mitem\u001b[0m\u001b[1;33m)\u001b[0m\u001b[1;33m\u001b[0m\u001b[0m\n\u001b[0m\u001b[0;32m    945\u001b[0m         \u001b[1;32mfor\u001b[0m \u001b[0mi\u001b[0m\u001b[1;33m,\u001b[0m \u001b[0mblock\u001b[0m \u001b[1;32min\u001b[0m \u001b[0menumerate\u001b[0m\u001b[1;33m(\u001b[0m\u001b[0mself\u001b[0m\u001b[1;33m.\u001b[0m\u001b[0mblocks\u001b[0m\u001b[1;33m)\u001b[0m\u001b[1;33m:\u001b[0m\u001b[1;33m\u001b[0m\u001b[0m\n\u001b[0;32m    946\u001b[0m             \u001b[1;32mif\u001b[0m \u001b[0mitem\u001b[0m \u001b[1;32min\u001b[0m \u001b[0mblock\u001b[0m\u001b[1;33m:\u001b[0m\u001b[1;33m\u001b[0m\u001b[0m\n", 
        "\u001b[1;32mC:\\Python27\\lib\\site-packages\\pandas\\core\\internals.pyc\u001b[0m in \u001b[0;36m_check_have\u001b[1;34m(self, item)\u001b[0m\n\u001b[0;32m    949\u001b[0m     \u001b[1;32mdef\u001b[0m \u001b[0m_check_have\u001b[0m\u001b[1;33m(\u001b[0m\u001b[0mself\u001b[0m\u001b[1;33m,\u001b[0m \u001b[0mitem\u001b[0m\u001b[1;33m)\u001b[0m\u001b[1;33m:\u001b[0m\u001b[1;33m\u001b[0m\u001b[0m\n\u001b[0;32m    950\u001b[0m         \u001b[1;32mif\u001b[0m \u001b[0mitem\u001b[0m \u001b[1;32mnot\u001b[0m \u001b[1;32min\u001b[0m \u001b[0mself\u001b[0m\u001b[1;33m.\u001b[0m\u001b[0mitems\u001b[0m\u001b[1;33m:\u001b[0m\u001b[1;33m\u001b[0m\u001b[0m\n\u001b[1;32m--> 951\u001b[1;33m             \u001b[1;32mraise\u001b[0m \u001b[0mKeyError\u001b[0m\u001b[1;33m(\u001b[0m\u001b[1;34m'no item named %s'\u001b[0m \u001b[1;33m%\u001b[0m \u001b[0mcom\u001b[0m\u001b[1;33m.\u001b[0m\u001b[0mpprint_thing\u001b[0m\u001b[1;33m(\u001b[0m\u001b[0mitem\u001b[0m\u001b[1;33m)\u001b[0m\u001b[1;33m)\u001b[0m\u001b[1;33m\u001b[0m\u001b[0m\n\u001b[0m\u001b[0;32m    952\u001b[0m \u001b[1;33m\u001b[0m\u001b[0m\n\u001b[0;32m    953\u001b[0m     \u001b[1;32mdef\u001b[0m \u001b[0mreindex_axis\u001b[0m\u001b[1;33m(\u001b[0m\u001b[0mself\u001b[0m\u001b[1;33m,\u001b[0m \u001b[0mnew_axis\u001b[0m\u001b[1;33m,\u001b[0m \u001b[0mmethod\u001b[0m\u001b[1;33m=\u001b[0m\u001b[0mNone\u001b[0m\u001b[1;33m,\u001b[0m \u001b[0maxis\u001b[0m\u001b[1;33m=\u001b[0m\u001b[1;36m0\u001b[0m\u001b[1;33m,\u001b[0m \u001b[0mcopy\u001b[0m\u001b[1;33m=\u001b[0m\u001b[0mTrue\u001b[0m\u001b[1;33m)\u001b[0m\u001b[1;33m:\u001b[0m\u001b[1;33m\u001b[0m\u001b[0m\n", 
        "\u001b[1;31mKeyError\u001b[0m: u'no item named userid'"
       ]
      }
     ], 
     "prompt_number": 27
    }, 
    {
     "cell_type": "code", 
     "collapsed": true, 
     "input": [
      "# add discretized predicted ratings from CFilter", 
      "# discretization is from 0-5 in .25 steps", 
      "ratings['cf_rating']=pd.cut(cf_ratings,np.arange(-1,6,.25))", 
      "ratings['it_rating'] = pd.cut(it_ratings,np.arange(-1,6,.25))", 
      "# now ratings is ready for prediction"
     ], 
     "language": "python", 
     "outputs": [], 
     "prompt_number": 18
    }, 
    {
     "cell_type": "markdown", 
     "source": [
      "A slight point, you should consider building the CFilter object part of training so, to construct a test set you would do something like this:"
     ]
    }, 
    {
     "cell_type": "code", 
     "collapsed": true, 
     "input": [
      "test_ratings=pd.load('movie_data/ratings_test.pda')", 
      "", 
      "# add ratings to the test set using the cf object built on the training set", 
      "test_ratings['cf_rating']=pd.cut(cf.get_cf_rating(test_ratings), np.arange(-1,6,.25))", 
      "test_ratings['it_rating']=pd.cut(cf.get_item_rating(test_ratings), np.arange(-1,6,.25))", 
      "# remove columns not used in 'isgood' predictionmd", 
      "test_ratings.pop('userid')", 
      "test_ratings.pop('itemid')", 
      "_dont_print_t=test_ratings.pop('rating')", 
      "", 
      "# test_ratings is ready for prediction"
     ], 
     "language": "python", 
     "outputs": [], 
     "prompt_number": 19
    }, 
    {
     "cell_type": "markdown", 
     "source": [
      "Question 5: Compare the following versions of your recommender system:  ", 
      "", 
      " 1. content-based rec system (using only user and item features)  ", 
      " 2. using only predicted ratings from item-item similarities  ", 
      " 3. using only predicted ratings from user-user similarities  ", 
      " 4. using only predicted ratings from both item-item and user-user similarities  ", 
      " 5. content-based + item-item predicted ratings  ", 
      " 6. content-based + user-user predicted ratings  ", 
      " 7. content-based + item-item + user-user predicted ratings  ", 
      "", 
      "Note 1: You need to choose a classifier to run this test. We have provided a decision tree learner in module", 
      "`pa03.dectree.DTree`. It only handles categorical data (recall all features in this dataset are categorical),", 
      "and uses the Gini index for scoring splits. You can use this or your decision tree code from PA01.", 
      "", 
      "Note 2: Implement the bootstraped F-score metric from Algorithm 20 (pg. 65) of the book and use it to perform this comparison (i.e., provide confidence", 
      "intervals).", 
      "", 
      "Note 3: You should make the bootstrap sampling code usable beyond this question as you will need it again when implementing Bagging and Random Forest ensembles."
     ]
    }, 
    {
     "cell_type": "code", 
     "collapsed": true, 
     "input": [
      "# get more info about decision tree learning", 
      "from pa03.dectree.DTree import DTree", 
      "?DTree"
     ], 
     "language": "python", 
     "outputs": [], 
     "prompt_number": 20
    }, 
    {
     "cell_type": "code", 
     "collapsed": false, 
     "input": [
      "# this function is a handy wrapper to use", 
      "from pa03.dectree.DTree import get_tree", 
      "?get_tree", 
      "", 
      "print ratings.columns"
     ], 
     "language": "python", 
     "outputs": [
      {
       "output_type": "stream", 
       "stream": "stdout", 
       "text": [
        "array([rating, age, gender, occupation, Action, Adventure, Animation,", 
        "       Children's, Comedy, Crime, Documentary, Drama, Fantasy, Film-Noir,", 
        "       Horror, Musical, Mystery, Romance, Sci-Fi, Thriller, War, Western,", 
        "       decade, isgood, cf_rating, it_rating], dtype=object)"
       ]
      }
     ], 
     "prompt_number": 21
    }, 
    {
     "cell_type": "code", 
     "collapsed": false, 
     "input": [
      "", 
      "#I", 
      "rat1 = ratings.ix[:, :'isgood']", 
      "tree1 = get_tree(rat1, 'isgood')", 
      "#II", 
      "rat2 = ratings.ix[:, 'it_rating':'it_rating']", 
      "rat2['isgood'] =ratings['isgood']", 
      "tree2 = get_tree(rat2, 'isgood')", 
      "#III", 
      "rat3 = ratings.ix[:, 'cf_rating':'cf_rating']", 
      "rat3['isgood'] =ratings['isgood']", 
      "tree3 = get_tree(rat3, 'isgood')", 
      "#IV", 
      "rat4 = ratings.ix[:, 'cf_rating':'it_rating']", 
      "rat4['isgood'] =ratings['isgood']", 
      "tree4 = get_tree(rat4, 'isgood')", 
      "#V", 
      "rat5 = ratings.ix[:, :'isgood']", 
      "rat5['it_rating'] =ratings['it_rating']", 
      "tree5 = get_tree(rat5, 'isgood')", 
      "#VI", 
      "rat6 = ratings.ix[:, :'cf_rating']", 
      "tree6 = get_tree(rat6, 'isgood')", 
      "#VII", 
      "rat7 = ratings.ix[:,:]", 
      "tree7 = get_tree(ratings, 'isgood')"
     ], 
     "language": "python", 
     "outputs": [
      {
       "output_type": "stream", 
       "stream": "stdout", 
       "text": [
        "[(1, 0.45420416275603159), (2, 0.45978026831557445), (3, 0.45966985038370234), (4, 0.45828962623530062), (5, 0.45840004416717273), (6, 0.45845525313310881), (7, 0.45889692486059735), (8, 0.45889692486059735), (9, 0.45817920830342845)]", 
        "[(1, 0.44680616132059847), (2, 0.44680616132059847), (3, 0.54546458344835203), (4, 0.54518853861867167), (5, 0.54281455308342075), (6, 0.54066140341191404), (7, 0.54066140341191404), (8, 0.54049577651410585), (9, 0.54049577651410585)]"
       ]
      }, 
      {
       "output_type": "stream", 
       "stream": "stdout", 
       "text": [
        "", 
        "[(1, 0.44807596753712803), (2, 0.44807596753712803), (3, 0.54320101584497327), (4, 0.53856346270634348), (5, 0.53398111853364982), (6, 0.53342902887428922), (7, 0.53342902887428922), (8, 0.53342902887428922), (9, 0.53342902887428922)]"
       ]
      }, 
      {
       "output_type": "stream", 
       "stream": "stdout", 
       "text": [
        "", 
        "[(1, 0.44608844476342957), (2, 0.44608844476342957), (3, 0.54463644895931096), (4, 0.5446916579252471), (5, 0.54126870203721089), (6, 0.53922597029757635), (7, 0.54143432893501908), (8, 0.5416551647987633), (9, 0.5403853585822338)]"
       ]
      }, 
      {
       "output_type": "stream", 
       "stream": "stdout", 
       "text": [
        "", 
        "[(1, 0.44581239993374921), (2, 0.44581239993374921), (3, 0.54413956826588639), (4, 0.54242809032186823), (5, 0.54010931375255344), (6, 0.54005410478661731), (7, 0.53988847788880912), (8, 0.53988847788880912), (9, 0.53850825374040745)]"
       ]
      }, 
      {
       "output_type": "stream", 
       "stream": "stdout", 
       "text": [
        "", 
        "[(1, 0.44967702754927402), (2, 0.44967702754927402), (3, 0.44962181858333794), (4, 0.54060619444597802), (5, 0.53762491028543036), (6, 0.5380665820129189), (7, 0.53784574614917458), (8, 0.53823220891072709), (9, 0.53762491028543036)]"
       ]
      }, 
      {
       "output_type": "stream", 
       "stream": "stdout", 
       "text": [
        "", 
        "[(1, 0.45227184894826922), (2, 0.45227184894826922), (3, 0.53955722409319273), (4, 0.53834262684259926), (5, 0.5332081930105449), (6, 0.53243526748743997), (7, 0.53265610335118418), (8, 0.53254568541931213), (9, 0.5323248495555678)]"
       ]
      }, 
      {
       "output_type": "stream", 
       "stream": "stdout", 
       "text": [
        ""
       ]
      }
     ], 
     "prompt_number": 28
    }, 
    {
     "cell_type": "code", 
     "collapsed": false, 
     "input": [
      "from pa03.dectree.bootstrap import *", 
      "#isgd_rating = [1 if item_ratings[i] > 3 else 0 for i in xrange(len(item_ratings))]", 
      "#I", 
      "preds1 = tree1.predict(test_ratings)#using 3 because depth 1 is so boring! Also, essentially same results", 
      "mean1, std1 = bootstrap_evaluate(test_ratings['isgood'], preds1, num=100)", 
      "print 'For tree 1, mean was: %f, standard deviation was: %f'%(mean1, std1)", 
      "#II", 
      "preds2 = tree2.predict(test_ratings)#using 3 because depth 1 is so boring! Also, essentially same results", 
      "mean2, std2 = bootstrap_evaluate(test_ratings['isgood'], preds2, num=100)", 
      "print 'For tree 2, mean was: %f, standard deviation was: %f'%(mean2, std2)", 
      "#III", 
      "preds3 = tree3.predict(test_ratings)#using 3 because depth 1 is so boring! Also, essentially same results", 
      "mean3, std3 = bootstrap_evaluate(test_ratings['isgood'], preds3, num=100)", 
      "print 'For tree 3, mean was: %f, standard deviation was: %f'%(mean3, std3)", 
      "#IV", 
      "preds4 = tree4.predict(test_ratings)#using 3 because depth 1 is so boring! Also, essentially same results", 
      "mean4, std4 = bootstrap_evaluate(test_ratings['isgood'], preds4, num=100)", 
      "print 'For tree 4, mean was: %f, standard deviation was: %f'%(mean4, std4)", 
      "#V", 
      "preds5 = tree5.predict(test_ratings)#using 3 because depth 1 is so boring! Also, essentially same results", 
      "mean5, std5 = bootstrap_evaluate(test_ratings['isgood'], preds5, num=100)", 
      "print 'For tree 5, mean was: %f, standard deviation was: %f'%(mean5, std5)", 
      "#VI", 
      "preds6 = tree6.predict(test_ratings)#using 3 because depth 1 is so boring! Also, essentially same results", 
      "mean6, std6 = bootstrap_evaluate(test_ratings['isgood'], preds6, num=100)", 
      "print 'For tree 6, mean was: %f, standard deviation was: %f'%(mean6, std6)", 
      "#VII", 
      "preds7 = tree7.predict(test_ratings)#using 3 because depth 1 is so boring! Also, essentially same results", 
      "mean7, std7 = bootstrap_evaluate(test_ratings['isgood'], preds7, num=100)", 
      "print 'For tree 7, mean was: %f, standard deviation was: %f'%(mean7, std7)"
     ], 
     "language": "python", 
     "outputs": [
      {
       "output_type": "stream", 
       "stream": "stdout", 
       "text": [
        "For tree 1, mean was: 0.579214, standard deviation was: 0.005105", 
        "For tree 2, mean was: 0.579961, standard deviation was: 0.004983"
       ]
      }, 
      {
       "output_type": "stream", 
       "stream": "stdout", 
       "text": [
        "", 
        "For tree 3, mean was: 0.579839, standard deviation was: 0.005194"
       ]
      }, 
      {
       "output_type": "stream", 
       "stream": "stdout", 
       "text": [
        "", 
        "For tree 4, mean was: 0.580336, standard deviation was: 0.005257"
       ]
      }, 
      {
       "output_type": "stream", 
       "stream": "stdout", 
       "text": [
        "", 
        "For tree 5, mean was: 0.581028, standard deviation was: 0.004880"
       ]
      }, 
      {
       "output_type": "stream", 
       "stream": "stdout", 
       "text": [
        "", 
        "For tree 6, mean was: 0.580460, standard deviation was: 0.004694"
       ]
      }, 
      {
       "output_type": "stream", 
       "stream": "stdout", 
       "text": [
        "", 
        "For tree 7, mean was: 0.579258, standard deviation was: 0.005136"
       ]
      }, 
      {
       "output_type": "stream", 
       "stream": "stdout", 
       "text": [
        ""
       ]
      }
     ], 
     "prompt_number": 31
    }, 
    {
     "cell_type": "markdown", 
     "source": [
      "###Ensemble Learning", 
      "", 
      "Now you will implement three ensemble learning methods to see if you can improve on results from the previous section. You should stick", 
      "to version VII of the recommender system (content-based + item-item + user-user predicted ratings) from this point forward. Continue using your", 
      "bootstraped F-score to perform comparisons below. Provide a sketch discussion (with code snippets if needed) below indicating how you", 
      "implemented each method."
     ]
    }, 
    {
     "cell_type": "markdown", 
     "source": [
      "Question 6: Implement Bagging where you bag decision trees. You should try to reuse your bootrsap code from the previous section. Compare bagged", 
      "trees to your results from Question 5. Comment on how the number of trees in the ensemble affects prediction performance."
     ]
    }, 
    {
     "cell_type": "code", 
     "collapsed": false, 
     "input": [
      "from pa03.dectree.bootstrap import *", 
      "bs = BootStrap(ratings, 'isgood', num=10)"
     ], 
     "language": "python", 
     "outputs": [], 
     "prompt_number": "*"
    }, 
    {
     "cell_type": "code", 
     "collapsed": false, 
     "input": [
      "#bs.bags[0]", 
      "", 
      "bs.trees = create_trees(bs.bags, bs.data, 'isgood')"
     ], 
     "language": "python", 
     "outputs": [], 
     "prompt_number": "*"
    }, 
    {
     "cell_type": "markdown", 
     "source": [
      "Question 7: Implement Random Forest learning. This requires that you can construct \"random\" trees where splits are done over randomly chosen", 
      "subset of candidate splits. Feel free to extend the decision tree code we provide (look at `pa03.dectree.scoring.py`) to do this. Otherwise,", 
      "modify your PA01 decision tree code. You should be able to reuse your bagging code from Question 6 here. Compare random forests to the Bagging (Question 6)", 
      "and single Decision Tree (Question 5)."
     ]
    }, 
    {
     "cell_type": "markdown", 
     "source": [
      "Question 8: Implement AdaBoost for decision tree stumps (trees with a single split). You need to be able to train weighted decision tree stumps to ", 
      "do this. Feel free to extend the decision tree code we provide, or use your PA01 decision tree code. You should be able to define weighted", 
      "versions of the Gini index (if you use our code), or information gain (if you use your code) by changing how the proportion of examples from each class", 
      "are calculated at a given split. Compare boosted stumps to all previous methods."
     ]
    }, 
    {
     "cell_type": "markdown", 
     "source": [
      "###Handing in", 
      "", 
      "As before, you should run all heavy computations outside of the IPython notebook. However, all code you run to include in your discussion (e.g., to", 
      "make plots, compute bootstrapped f-score from saved predictions) can be run inside the notebook. Please submit your source code along with", 
      "this notebook."
     ]
    }
   ]
  }
 ]
}